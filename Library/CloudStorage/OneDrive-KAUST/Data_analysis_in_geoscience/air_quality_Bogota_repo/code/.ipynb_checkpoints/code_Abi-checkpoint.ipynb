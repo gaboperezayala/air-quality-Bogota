{
 "cells": [
  {
   "cell_type": "markdown",
   "metadata": {
    "tags": []
   },
   "source": [
    "# Imports"
   ]
  },
  {
   "cell_type": "code",
   "execution_count": 2,
   "metadata": {
    "tags": []
   },
   "outputs": [
    {
     "name": "stdout",
     "output_type": "stream",
     "text": [
      "The autoreload extension is already loaded. To reload it, use:\n",
      "  %reload_ext autoreload\n"
     ]
    }
   ],
   "source": [
    "%load_ext autoreload\n",
    "%matplotlib inline\n",
    "\n",
    "import geostatspy\n",
    "import geopandas as gpd\n",
    "import matplotlib.pyplot as plt\n",
    "import pandas as pd\n",
    "import os\n",
    "import datetime\n",
    "from shapely.geometry import Point\n",
    "import numpy as np\n",
    "\n",
    "from matplotlib.cm import ScalarMappable\n",
    "from matplotlib.colors import Normalize\n",
    "from tobler.area_weighted import area_interpolate\n",
    "\n",
    "from scipy.interpolate import NearestNDInterpolator\n",
    "import plotly.express as px\n",
    "\n",
    "import itertools\n",
    "import numpy as np\n",
    "import pandas as pd\n",
    "from shapely.geometry import Polygon"
   ]
  },
  {
   "cell_type": "markdown",
   "metadata": {},
   "source": [
    "# Functions"
   ]
  },
  {
   "cell_type": "code",
   "execution_count": 3,
   "metadata": {
    "tags": []
   },
   "outputs": [],
   "source": [
    "# Function to adjust the date and time\n",
    "def adjust_datetime(date_str):\n",
    "\n",
    "    # Split the date and time\n",
    "    date_part, time_part = date_str.split(' ')\n",
    "    \n",
    "    # Check if the time is '24:00' and adjust\n",
    "    if time_part == '24:00':\n",
    "        time_part = '00:00'\n",
    "        date_str = date_part + ' ' + time_part\n",
    "        return date_str\n",
    "\n",
    "    else:\n",
    "        # Return the original datetime string\n",
    "        return date_str\n",
    "    \n",
    "    \n",
    "def pixel2poly(x, y, z, resolution):\n",
    "    \"\"\"\n",
    "    x: x coords of cell\n",
    "    y: y coords of cell\n",
    "    z: matrix of values for each (x,y)\n",
    "    resolution: spatial resolution of each cell\n",
    "    \"\"\"\n",
    "    polygons = []\n",
    "    values = []\n",
    "    half_res = resolution / 2\n",
    "    for i, j  in itertools.product(range(len(x)), range(len(y))):\n",
    "        minx, maxx = x[i] - half_res, x[i] + half_res\n",
    "        miny, maxy = y[j] - half_res, y[j] + half_res\n",
    "        polygons.append(Polygon([(minx, miny), (minx, maxy), (maxx, maxy), (maxx, miny)]))\n",
    "        if isinstance(z, (int, float)):\n",
    "            values.append(z)\n",
    "        else:\n",
    "            values.append(z[j, i])\n",
    "    return polygons, values"
   ]
  },
  {
   "cell_type": "markdown",
   "metadata": {},
   "source": [
    "# Loading data"
   ]
  },
  {
   "cell_type": "code",
   "execution_count": 5,
   "metadata": {
    "tags": []
   },
   "outputs": [],
   "source": [
    "\n",
    "bici_data = gpd.read_file('ciclorruta.gpkg')\n",
    "municipalities = gpd.read_file('localidades.geojson')\n",
    "bici = gpd.read_file('redbiciusuario.geojson')\n",
    "pm25 = gpd.read_file('pm25_promedio_anual.gpkg')\n",
    "pm10 = gpd.read_file('pm10_promedio_anual.gpkg')\n",
    "stat_name = gpd.read_file('estacion_calida_aire.gpkg')\n",
    "#municipalities_loc = pd.read_excel('../municipalities_loc.xlsx')"
   ]
  },
  {
   "cell_type": "code",
   "execution_count": 6,
   "metadata": {
    "tags": []
   },
   "outputs": [
    {
     "ename": "FileNotFoundError",
     "evalue": "[WinError 3] The system cannot find the path specified: '../../Documents/DataAnalysisGab/data_bogota2'",
     "output_type": "error",
     "traceback": [
      "\u001b[1;31m---------------------------------------------------------------------------\u001b[0m",
      "\u001b[1;31mFileNotFoundError\u001b[0m                         Traceback (most recent call last)",
      "Cell \u001b[1;32mIn[6], line 5\u001b[0m\n\u001b[0;32m      3\u001b[0m filename_lst \u001b[38;5;241m=\u001b[39m []\n\u001b[0;32m      4\u001b[0m \u001b[38;5;66;03m# List all files and directories in the specified directory\u001b[39;00m\n\u001b[1;32m----> 5\u001b[0m \u001b[38;5;28;01mfor\u001b[39;00m filename \u001b[38;5;129;01min\u001b[39;00m os\u001b[38;5;241m.\u001b[39mlistdir(directory):\n\u001b[0;32m      6\u001b[0m     \u001b[38;5;28;01mif\u001b[39;00m os\u001b[38;5;241m.\u001b[39mpath\u001b[38;5;241m.\u001b[39misfile(os\u001b[38;5;241m.\u001b[39mpath\u001b[38;5;241m.\u001b[39mjoin(directory, filename)):\n\u001b[0;32m      7\u001b[0m         filename_lst\u001b[38;5;241m.\u001b[39mappend(filename)\n",
      "\u001b[1;31mFileNotFoundError\u001b[0m: [WinError 3] The system cannot find the path specified: '../../Documents/DataAnalysisGab/data_bogota2'"
     ]
    }
   ],
   "source": [
    "# Specify the directory you want to list files from\n",
    "directory = \"../../Documents/DataAnalysisGab/data_bogota2\"\n",
    "filename_lst = []\n",
    "# List all files and directories in the specified directory\n",
    "for filename in os.listdir(directory):\n",
    "    if os.path.isfile(os.path.join(directory, filename)):\n",
    "        filename_lst.append(filename)"
   ]
  },
  {
   "cell_type": "markdown",
   "metadata": {
    "jp-MarkdownHeadingCollapsed": true,
    "tags": []
   },
   "source": [
    "# Data Exploration"
   ]
  },
  {
   "cell_type": "code",
   "execution_count": 3,
   "metadata": {
    "tags": []
   },
   "outputs": [],
   "source": [
    "bici_data = gpd.read_file('ciclorruta.gpkg')\n",
    "municipalities = gpd.read_file('localidades.geojson')\n",
    "bici = gpd.read_file('redbiciusuario.geojson')"
   ]
  },
  {
   "cell_type": "code",
   "execution_count": 4,
   "metadata": {
    "tags": []
   },
   "outputs": [
    {
     "data": {
      "text/html": [
       "<div>\n",
       "<style scoped>\n",
       "    .dataframe tbody tr th:only-of-type {\n",
       "        vertical-align: middle;\n",
       "    }\n",
       "\n",
       "    .dataframe tbody tr th {\n",
       "        vertical-align: top;\n",
       "    }\n",
       "\n",
       "    .dataframe thead th {\n",
       "        text-align: right;\n",
       "    }\n",
       "</style>\n",
       "<table border=\"1\" class=\"dataframe\">\n",
       "  <thead>\n",
       "    <tr style=\"text-align: right;\">\n",
       "      <th></th>\n",
       "      <th>CicTSuperf</th>\n",
       "      <th>CicCodigo</th>\n",
       "      <th>CicCIV</th>\n",
       "      <th>SHAPE_Length</th>\n",
       "      <th>SHAPE_Area</th>\n",
       "      <th>geometry</th>\n",
       "    </tr>\n",
       "  </thead>\n",
       "  <tbody>\n",
       "    <tr>\n",
       "      <th>0</th>\n",
       "      <td>2</td>\n",
       "      <td>34013476</td>\n",
       "      <td>7009283</td>\n",
       "      <td>0.000129</td>\n",
       "      <td>9.796155e-10</td>\n",
       "      <td>MULTIPOLYGON (((-74.19298 4.61537, -74.19301 4...</td>\n",
       "    </tr>\n",
       "    <tr>\n",
       "      <th>1</th>\n",
       "      <td>4</td>\n",
       "      <td>35003046</td>\n",
       "      <td>13001032</td>\n",
       "      <td>0.002548</td>\n",
       "      <td>3.222010e-08</td>\n",
       "      <td>MULTIPOLYGON (((-74.07214 4.64153, -74.07224 4...</td>\n",
       "    </tr>\n",
       "    <tr>\n",
       "      <th>2</th>\n",
       "      <td>2</td>\n",
       "      <td>35003047</td>\n",
       "      <td>10010469</td>\n",
       "      <td>0.003033</td>\n",
       "      <td>2.232427e-08</td>\n",
       "      <td>MULTIPOLYGON (((-74.14335 4.71964, -74.14332 4...</td>\n",
       "    </tr>\n",
       "    <tr>\n",
       "      <th>3</th>\n",
       "      <td>2</td>\n",
       "      <td>34011616</td>\n",
       "      <td>12003236</td>\n",
       "      <td>0.001754</td>\n",
       "      <td>2.391483e-08</td>\n",
       "      <td>MULTIPOLYGON (((-74.08698 4.66369, -74.08704 4...</td>\n",
       "    </tr>\n",
       "    <tr>\n",
       "      <th>4</th>\n",
       "      <td>2</td>\n",
       "      <td>530552</td>\n",
       "      <td>8007986</td>\n",
       "      <td>0.000913</td>\n",
       "      <td>7.739910e-09</td>\n",
       "      <td>MULTIPOLYGON (((-74.16186 4.61524, -74.16215 4...</td>\n",
       "    </tr>\n",
       "    <tr>\n",
       "      <th>...</th>\n",
       "      <td>...</td>\n",
       "      <td>...</td>\n",
       "      <td>...</td>\n",
       "      <td>...</td>\n",
       "      <td>...</td>\n",
       "      <td>...</td>\n",
       "    </tr>\n",
       "    <tr>\n",
       "      <th>5809</th>\n",
       "      <td>2</td>\n",
       "      <td>35004155</td>\n",
       "      <td>13001859</td>\n",
       "      <td>0.001528</td>\n",
       "      <td>1.358386e-08</td>\n",
       "      <td>MULTIPOLYGON (((-74.07090 4.63036, -74.07090 4...</td>\n",
       "    </tr>\n",
       "    <tr>\n",
       "      <th>5810</th>\n",
       "      <td>2</td>\n",
       "      <td>35004156</td>\n",
       "      <td>13001903</td>\n",
       "      <td>0.001673</td>\n",
       "      <td>1.442749e-08</td>\n",
       "      <td>MULTIPOLYGON (((-74.06959 4.62998, -74.06950 4...</td>\n",
       "    </tr>\n",
       "    <tr>\n",
       "      <th>5811</th>\n",
       "      <td>2</td>\n",
       "      <td>35004157</td>\n",
       "      <td>13002433</td>\n",
       "      <td>0.000695</td>\n",
       "      <td>5.950327e-09</td>\n",
       "      <td>MULTIPOLYGON (((-74.06929 4.62976, -74.06929 4...</td>\n",
       "    </tr>\n",
       "    <tr>\n",
       "      <th>5812</th>\n",
       "      <td>2</td>\n",
       "      <td>35004158</td>\n",
       "      <td>13001924</td>\n",
       "      <td>0.000676</td>\n",
       "      <td>5.740569e-09</td>\n",
       "      <td>MULTIPOLYGON (((-74.06903 4.62955, -74.06903 4...</td>\n",
       "    </tr>\n",
       "    <tr>\n",
       "      <th>5813</th>\n",
       "      <td>2</td>\n",
       "      <td>35004264</td>\n",
       "      <td>16004840</td>\n",
       "      <td>0.000284</td>\n",
       "      <td>1.739019e-09</td>\n",
       "      <td>MULTIPOLYGON (((-74.12092 4.62872, -74.12092 4...</td>\n",
       "    </tr>\n",
       "  </tbody>\n",
       "</table>\n",
       "<p>5814 rows × 6 columns</p>\n",
       "</div>"
      ],
      "text/plain": [
       "      CicTSuperf  CicCodigo    CicCIV  SHAPE_Length    SHAPE_Area  \\\n",
       "0              2   34013476   7009283      0.000129  9.796155e-10   \n",
       "1              4   35003046  13001032      0.002548  3.222010e-08   \n",
       "2              2   35003047  10010469      0.003033  2.232427e-08   \n",
       "3              2   34011616  12003236      0.001754  2.391483e-08   \n",
       "4              2     530552   8007986      0.000913  7.739910e-09   \n",
       "...          ...        ...       ...           ...           ...   \n",
       "5809           2   35004155  13001859      0.001528  1.358386e-08   \n",
       "5810           2   35004156  13001903      0.001673  1.442749e-08   \n",
       "5811           2   35004157  13002433      0.000695  5.950327e-09   \n",
       "5812           2   35004158  13001924      0.000676  5.740569e-09   \n",
       "5813           2   35004264  16004840      0.000284  1.739019e-09   \n",
       "\n",
       "                                               geometry  \n",
       "0     MULTIPOLYGON (((-74.19298 4.61537, -74.19301 4...  \n",
       "1     MULTIPOLYGON (((-74.07214 4.64153, -74.07224 4...  \n",
       "2     MULTIPOLYGON (((-74.14335 4.71964, -74.14332 4...  \n",
       "3     MULTIPOLYGON (((-74.08698 4.66369, -74.08704 4...  \n",
       "4     MULTIPOLYGON (((-74.16186 4.61524, -74.16215 4...  \n",
       "...                                                 ...  \n",
       "5809  MULTIPOLYGON (((-74.07090 4.63036, -74.07090 4...  \n",
       "5810  MULTIPOLYGON (((-74.06959 4.62998, -74.06950 4...  \n",
       "5811  MULTIPOLYGON (((-74.06929 4.62976, -74.06929 4...  \n",
       "5812  MULTIPOLYGON (((-74.06903 4.62955, -74.06903 4...  \n",
       "5813  MULTIPOLYGON (((-74.12092 4.62872, -74.12092 4...  \n",
       "\n",
       "[5814 rows x 6 columns]"
      ]
     },
     "execution_count": 4,
     "metadata": {},
     "output_type": "execute_result"
    }
   ],
   "source": [
    "bici_data"
   ]
  },
  {
   "cell_type": "code",
   "execution_count": 5,
   "metadata": {
    "tags": []
   },
   "outputs": [
    {
     "data": {
      "text/plain": [
       "<Axes: >"
      ]
     },
     "execution_count": 5,
     "metadata": {},
     "output_type": "execute_result"
    },
    {
     "data": {
      "image/png": "[encoded data removed]",
      "text/plain": [
       "<Figure size 640x480 with 1 Axes>"
      ]
     },
     "metadata": {},
     "output_type": "display_data"
    }
   ],
   "source": [
    "municipalities.plot()"
   ]
  },
  {
   "cell_type": "code",
   "execution_count": 6,
   "metadata": {
    "tags": []
   },
   "outputs": [
    {
     "data": {
      "text/plain": [
       "<Axes: >"
      ]
     },
     "execution_count": 6,
     "metadata": {},
     "output_type": "execute_result"
    },
    {
     "data": {
      "image/png": "[encoded data removed]",
      "text/plain": [
       "<Figure size 1000x1000 with 1 Axes>"
      ]
     },
     "metadata": {},
     "output_type": "display_data"
    }
   ],
   "source": [
    "fig , ax = plt.subplots(figsize=(10,10))\n",
    "municipalities.plot(ax=ax)\n",
    "bici.plot(ax=ax, color='red', alpha=1, linestyle='--')"
   ]
  },
  {
   "cell_type": "code",
   "execution_count": 86,
   "metadata": {},
   "outputs": [
    {
     "name": "stderr",
     "output_type": "stream",
     "text": [
      "/var/folders/dk/lz3pdcm90wbbwyv9_l1tjq41p_gwfs/T/ipykernel_40463/1566640468.py:1: UserWarning: The indices of the two GeoSeries are different.\n",
      "  mask1 = bici.within(municipalities)\n"
     ]
    },
    {
     "data": {
      "text/plain": [
       "0        False\n",
       "1        False\n",
       "2        False\n",
       "3        False\n",
       "4        False\n",
       "         ...  \n",
       "14449    False\n",
       "14450    False\n",
       "14451    False\n",
       "14452    False\n",
       "14453    False\n",
       "Length: 14454, dtype: bool"
      ]
     },
     "execution_count": 86,
     "metadata": {},
     "output_type": "execute_result"
    }
   ],
   "source": [
    "mask1 = bici.within(municipalities)\n",
    "mask1"
   ]
  },
  {
   "cell_type": "code",
   "execution_count": 92,
   "metadata": {},
   "outputs": [
    {
     "name": "stderr",
     "output_type": "stream",
     "text": [
      "/var/folders/dk/lz3pdcm90wbbwyv9_l1tjq41p_gwfs/T/ipykernel_40463/2795488682.py:1: UserWarning: The indices of the two GeoSeries are different.\n",
      "  mask2 = municipalities.within(bici)\n"
     ]
    },
    {
     "data": {
      "text/plain": [
       "0        False\n",
       "1        False\n",
       "2        False\n",
       "3        False\n",
       "4        False\n",
       "         ...  \n",
       "14449    False\n",
       "14450    False\n",
       "14451    False\n",
       "14452    False\n",
       "14453    False\n",
       "Length: 14454, dtype: bool"
      ]
     },
     "execution_count": 92,
     "metadata": {},
     "output_type": "execute_result"
    }
   ],
   "source": [
    "mask2 = municipalities.within(bici)\n",
    "mask2"
   ]
  },
  {
   "cell_type": "code",
   "execution_count": 94,
   "metadata": {},
   "outputs": [
    {
     "name": "stderr",
     "output_type": "stream",
     "text": [
      "/var/folders/dk/lz3pdcm90wbbwyv9_l1tjq41p_gwfs/T/ipykernel_40463/1446229962.py:1: UserWarning: The indices of the two GeoSeries are different.\n",
      "  mask = municipalities.intersects(bici)\n",
      "/opt/homebrew/Caskroom/miniforge/base/envs/torch2/lib/python3.10/site-packages/geopandas/geodataframe.py:1474: UserWarning: Boolean Series key will be reindexed to match DataFrame index.\n",
      "  result = super().__getitem__(key)\n"
     ]
    }
   ],
   "source": [
    "mask = municipalities.intersects(bici)\n",
    "municipalities_masked = municipalities[mask]"
   ]
  },
  {
   "cell_type": "code",
   "execution_count": 95,
   "metadata": {},
   "outputs": [
    {
     "data": {
      "text/plain": [
       "<Axes: >"
      ]
     },
     "execution_count": 95,
     "metadata": {},
     "output_type": "execute_result"
    },
    {
     "data": {
      "image/png": "[encoded data removed]",
      "text/plain": [
       "<Figure size 640x480 with 1 Axes>"
      ]
     },
     "metadata": {},
     "output_type": "display_data"
    }
   ],
   "source": [
    "municipalities_masked.plot()"
   ]
  },
  {
   "cell_type": "code",
   "execution_count": 83,
   "metadata": {},
   "outputs": [
    {
     "data": {
      "text/html": [
       "<div>\n",
       "<style scoped>\n",
       "    .dataframe tbody tr th:only-of-type {\n",
       "        vertical-align: middle;\n",
       "    }\n",
       "\n",
       "    .dataframe tbody tr th {\n",
       "        vertical-align: top;\n",
       "    }\n",
       "\n",
       "    .dataframe thead th {\n",
       "        text-align: right;\n",
       "    }\n",
       "</style>\n",
       "<table border=\"1\" class=\"dataframe\">\n",
       "  <thead>\n",
       "    <tr style=\"text-align: right;\">\n",
       "      <th></th>\n",
       "      <th>RBiCodigo</th>\n",
       "      <th>RBiClase</th>\n",
       "      <th>RBiSentido</th>\n",
       "      <th>RBiTSuperf</th>\n",
       "      <th>RBiCIVial</th>\n",
       "      <th>RBiLocaliz</th>\n",
       "      <th>SHAPE_Length</th>\n",
       "      <th>geometry</th>\n",
       "    </tr>\n",
       "  </thead>\n",
       "  <tbody>\n",
       "    <tr>\n",
       "      <th>0</th>\n",
       "      <td>34014090</td>\n",
       "      <td>2</td>\n",
       "      <td>DS</td>\n",
       "      <td>2</td>\n",
       "      <td>35002729</td>\n",
       "      <td>2</td>\n",
       "      <td>0.000193</td>\n",
       "      <td>MULTILINESTRING ((-74.08002 4.61717, -74.08005...</td>\n",
       "    </tr>\n",
       "    <tr>\n",
       "      <th>1</th>\n",
       "      <td>34014091</td>\n",
       "      <td>2</td>\n",
       "      <td>DS</td>\n",
       "      <td>2</td>\n",
       "      <td>35002735</td>\n",
       "      <td>2</td>\n",
       "      <td>0.000577</td>\n",
       "      <td>MULTILINESTRING ((-74.08002 4.61734, -74.07954...</td>\n",
       "    </tr>\n",
       "    <tr>\n",
       "      <th>2</th>\n",
       "      <td>34014092</td>\n",
       "      <td>1</td>\n",
       "      <td>DS</td>\n",
       "      <td>2</td>\n",
       "      <td>467576</td>\n",
       "      <td>2</td>\n",
       "      <td>0.000084</td>\n",
       "      <td>MULTILINESTRING ((-74.07949 4.61770, -74.07940...</td>\n",
       "    </tr>\n",
       "    <tr>\n",
       "      <th>3</th>\n",
       "      <td>34014093</td>\n",
       "      <td>2</td>\n",
       "      <td>DS</td>\n",
       "      <td>2</td>\n",
       "      <td>35002731</td>\n",
       "      <td>2</td>\n",
       "      <td>0.000570</td>\n",
       "      <td>MULTILINESTRING ((-74.07929 4.61778, -74.07895...</td>\n",
       "    </tr>\n",
       "    <tr>\n",
       "      <th>4</th>\n",
       "      <td>34014094</td>\n",
       "      <td>1</td>\n",
       "      <td>DS</td>\n",
       "      <td>3</td>\n",
       "      <td>183832</td>\n",
       "      <td>3</td>\n",
       "      <td>0.000141</td>\n",
       "      <td>MULTILINESTRING ((-74.07876 4.61814, -74.07864...</td>\n",
       "    </tr>\n",
       "    <tr>\n",
       "      <th>...</th>\n",
       "      <td>...</td>\n",
       "      <td>...</td>\n",
       "      <td>...</td>\n",
       "      <td>...</td>\n",
       "      <td>...</td>\n",
       "      <td>...</td>\n",
       "      <td>...</td>\n",
       "      <td>...</td>\n",
       "    </tr>\n",
       "    <tr>\n",
       "      <th>14449</th>\n",
       "      <td>34015909</td>\n",
       "      <td>13</td>\n",
       "      <td>US</td>\n",
       "      <td>1</td>\n",
       "      <td>188261</td>\n",
       "      <td>3</td>\n",
       "      <td>0.000029</td>\n",
       "      <td>MULTILINESTRING ((-74.11871 4.62810, -74.11870...</td>\n",
       "    </tr>\n",
       "    <tr>\n",
       "      <th>14450</th>\n",
       "      <td>34015659</td>\n",
       "      <td>4</td>\n",
       "      <td>US</td>\n",
       "      <td>1</td>\n",
       "      <td>91012259</td>\n",
       "      <td>3</td>\n",
       "      <td>0.000050</td>\n",
       "      <td>MULTILINESTRING ((-74.07095 4.63023, -74.07096...</td>\n",
       "    </tr>\n",
       "    <tr>\n",
       "      <th>14451</th>\n",
       "      <td>34015660</td>\n",
       "      <td>4</td>\n",
       "      <td>US</td>\n",
       "      <td>1</td>\n",
       "      <td>91012263</td>\n",
       "      <td>3</td>\n",
       "      <td>0.000084</td>\n",
       "      <td>MULTILINESTRING ((-74.07100 4.63024, -74.07108...</td>\n",
       "    </tr>\n",
       "    <tr>\n",
       "      <th>14452</th>\n",
       "      <td>34015662</td>\n",
       "      <td>2</td>\n",
       "      <td>DS</td>\n",
       "      <td>1</td>\n",
       "      <td>20013903</td>\n",
       "      <td>9</td>\n",
       "      <td>0.000038</td>\n",
       "      <td>MULTILINESTRING ((-74.06751 4.62744, -74.06750...</td>\n",
       "    </tr>\n",
       "    <tr>\n",
       "      <th>14453</th>\n",
       "      <td>34015903</td>\n",
       "      <td>1</td>\n",
       "      <td>DS</td>\n",
       "      <td>2</td>\n",
       "      <td>24133716</td>\n",
       "      <td>8</td>\n",
       "      <td>0.000146</td>\n",
       "      <td>MULTILINESTRING ((-74.12509 4.62886, -74.12509...</td>\n",
       "    </tr>\n",
       "  </tbody>\n",
       "</table>\n",
       "<p>14454 rows × 8 columns</p>\n",
       "</div>"
      ],
      "text/plain": [
       "       RBiCodigo  RBiClase RBiSentido  RBiTSuperf  RBiCIVial  RBiLocaliz  \\\n",
       "0       34014090         2         DS           2   35002729           2   \n",
       "1       34014091         2         DS           2   35002735           2   \n",
       "2       34014092         1         DS           2     467576           2   \n",
       "3       34014093         2         DS           2   35002731           2   \n",
       "4       34014094         1         DS           3     183832           3   \n",
       "...          ...       ...        ...         ...        ...         ...   \n",
       "14449   34015909        13         US           1     188261           3   \n",
       "14450   34015659         4         US           1   91012259           3   \n",
       "14451   34015660         4         US           1   91012263           3   \n",
       "14452   34015662         2         DS           1   20013903           9   \n",
       "14453   34015903         1         DS           2   24133716           8   \n",
       "\n",
       "       SHAPE_Length                                           geometry  \n",
       "0          0.000193  MULTILINESTRING ((-74.08002 4.61717, -74.08005...  \n",
       "1          0.000577  MULTILINESTRING ((-74.08002 4.61734, -74.07954...  \n",
       "2          0.000084  MULTILINESTRING ((-74.07949 4.61770, -74.07940...  \n",
       "3          0.000570  MULTILINESTRING ((-74.07929 4.61778, -74.07895...  \n",
       "4          0.000141  MULTILINESTRING ((-74.07876 4.61814, -74.07864...  \n",
       "...             ...                                                ...  \n",
       "14449      0.000029  MULTILINESTRING ((-74.11871 4.62810, -74.11870...  \n",
       "14450      0.000050  MULTILINESTRING ((-74.07095 4.63023, -74.07096...  \n",
       "14451      0.000084  MULTILINESTRING ((-74.07100 4.63024, -74.07108...  \n",
       "14452      0.000038  MULTILINESTRING ((-74.06751 4.62744, -74.06750...  \n",
       "14453      0.000146  MULTILINESTRING ((-74.12509 4.62886, -74.12509...  \n",
       "\n",
       "[14454 rows x 8 columns]"
      ]
     },
     "execution_count": 83,
     "metadata": {},
     "output_type": "execute_result"
    }
   ],
   "source": [
    "bici"
   ]
  },
  {
   "cell_type": "code",
   "execution_count": 84,
   "metadata": {},
   "outputs": [
    {
     "data": {
      "text/plain": [
       "<Axes: >"
      ]
     },
     "execution_count": 84,
     "metadata": {},
     "output_type": "execute_result"
    },
    {
     "data": {
      "image/png": "[encoded data removed]",
      "text/plain": [
       "<Figure size 640x480 with 1 Axes>"
      ]
     },
     "metadata": {},
     "output_type": "display_data"
    }
   ],
   "source": [
    "bici.plot(color = 'red')"
   ]
  },
  {
   "cell_type": "markdown",
   "metadata": {
    "jp-MarkdownHeadingCollapsed": true,
    "tags": []
   },
   "source": [
    "# Abi"
   ]
  },
  {
   "cell_type": "markdown",
   "metadata": {
    "jp-MarkdownHeadingCollapsed": true,
    "tags": []
   },
   "source": [
    "## Data clean up and importing into pandas DF "
   ]
  },
  {
   "cell_type": "code",
   "execution_count": 9,
   "metadata": {
    "tags": []
   },
   "outputs": [],
   "source": [
    "data_path = './Data/'"
   ]
  },
  {
   "cell_type": "code",
   "execution_count": 108,
   "metadata": {
    "tags": []
   },
   "outputs": [],
   "source": [
    "station_dfs = {}\n",
    "\n",
    "for filename in os.listdir(data_path):\n",
    "    station_path = os.path.join(data_path, filename)  # Create the path for the Excel file\n",
    "    \n",
    "    # Read the Excel file into a Pandas DataFrame with the header included\n",
    "    station = pd.read_excel(station_path, header=0)\n",
    "    \n",
    "    # Extract the station name from the last column\n",
    "    station_name = station.iloc[1, -1]\n",
    "    \n",
    "    # Store the DataFrame in the dictionary with the station name as the key\n",
    "    station_dfs[station_name] = station\n",
    "\n",
    "# Now 'station_dfs' is a dictionary where keys are station names, and values are corresponding DataFrames\n"
   ]
  },
  {
   "cell_type": "code",
   "execution_count": 110,
   "metadata": {
    "tags": []
   },
   "outputs": [
    {
     "name": "stdout",
     "output_type": "stream",
     "text": [
      "List of all stations:\n",
      "['Bolivia', 'Carvajal_Sevillana', 'Centro_de_Alto_Rendimiento', 'Ciudad_Bolivar', 'Colina', 'Fontibon', 'Guaymaral', 'Jazmin', 'Kennedy', 'Las Ferias', 'San Cristobal', 'MinAmbiente', 'Suba', 'Tunal', 'Usaquen', 'Usme', 'Movil 7ma', 'Movil_Fontibon', 'Puente Aranda']\n"
     ]
    }
   ],
   "source": [
    "all_stations = list(station_dfs.keys())\n",
    "print(\"List of all stations:\")\n",
    "print(all_stations)"
   ]
  },
  {
   "cell_type": "code",
   "execution_count": 112,
   "metadata": {
    "tags": []
   },
   "outputs": [
    {
     "data": {
      "text/html": [
       "<div>\n",
       "<style scoped>\n",
       "    .dataframe tbody tr th:only-of-type {\n",
       "        vertical-align: middle;\n",
       "    }\n",
       "\n",
       "    .dataframe tbody tr th {\n",
       "        vertical-align: top;\n",
       "    }\n",
       "\n",
       "    .dataframe thead th {\n",
       "        text-align: right;\n",
       "    }\n",
       "</style>\n",
       "<table border=\"1\" class=\"dataframe\">\n",
       "  <thead>\n",
       "    <tr style=\"text-align: right;\">\n",
       "      <th></th>\n",
       "      <th>DateTime</th>\n",
       "      <th>PM10</th>\n",
       "      <th>Precipitacion</th>\n",
       "      <th>PM2.5</th>\n",
       "      <th>NO</th>\n",
       "      <th>NO2</th>\n",
       "      <th>NOX</th>\n",
       "      <th>SO2</th>\n",
       "      <th>CO</th>\n",
       "      <th>OZONO</th>\n",
       "      <th>station_name</th>\n",
       "    </tr>\n",
       "  </thead>\n",
       "  <tbody>\n",
       "    <tr>\n",
       "      <th>0</th>\n",
       "      <td>16-11-2022 01:00</td>\n",
       "      <td>39.2</td>\n",
       "      <td>0</td>\n",
       "      <td>13.6</td>\n",
       "      <td>----</td>\n",
       "      <td>----</td>\n",
       "      <td>----</td>\n",
       "      <td>0.4</td>\n",
       "      <td>0.3</td>\n",
       "      <td>0.4</td>\n",
       "      <td>Bolivia</td>\n",
       "    </tr>\n",
       "    <tr>\n",
       "      <th>1</th>\n",
       "      <td>16-11-2022 02:00</td>\n",
       "      <td>35.4</td>\n",
       "      <td>0</td>\n",
       "      <td>10.4</td>\n",
       "      <td>----</td>\n",
       "      <td>----</td>\n",
       "      <td>----</td>\n",
       "      <td>0.4</td>\n",
       "      <td>0.3</td>\n",
       "      <td>0.9</td>\n",
       "      <td>Bolivia</td>\n",
       "    </tr>\n",
       "    <tr>\n",
       "      <th>2</th>\n",
       "      <td>16-11-2022 03:00</td>\n",
       "      <td>36.5</td>\n",
       "      <td>0</td>\n",
       "      <td>9</td>\n",
       "      <td>----</td>\n",
       "      <td>----</td>\n",
       "      <td>----</td>\n",
       "      <td>0.3</td>\n",
       "      <td>0.3</td>\n",
       "      <td>1</td>\n",
       "      <td>Bolivia</td>\n",
       "    </tr>\n",
       "    <tr>\n",
       "      <th>3</th>\n",
       "      <td>16-11-2022 04:00</td>\n",
       "      <td>39.7</td>\n",
       "      <td>0</td>\n",
       "      <td>8.7</td>\n",
       "      <td>----</td>\n",
       "      <td>----</td>\n",
       "      <td>----</td>\n",
       "      <td>0.1</td>\n",
       "      <td>0.3</td>\n",
       "      <td>1.2</td>\n",
       "      <td>Bolivia</td>\n",
       "    </tr>\n",
       "    <tr>\n",
       "      <th>4</th>\n",
       "      <td>16-11-2022 05:00</td>\n",
       "      <td>36.4</td>\n",
       "      <td>0</td>\n",
       "      <td>7.6</td>\n",
       "      <td>----</td>\n",
       "      <td>----</td>\n",
       "      <td>----</td>\n",
       "      <td>0.4</td>\n",
       "      <td>0.7</td>\n",
       "      <td>0.1</td>\n",
       "      <td>Bolivia</td>\n",
       "    </tr>\n",
       "    <tr>\n",
       "      <th>...</th>\n",
       "      <td>...</td>\n",
       "      <td>...</td>\n",
       "      <td>...</td>\n",
       "      <td>...</td>\n",
       "      <td>...</td>\n",
       "      <td>...</td>\n",
       "      <td>...</td>\n",
       "      <td>...</td>\n",
       "      <td>...</td>\n",
       "      <td>...</td>\n",
       "      <td>...</td>\n",
       "    </tr>\n",
       "    <tr>\n",
       "      <th>8755</th>\n",
       "      <td>15-11-2023 20:00</td>\n",
       "      <td>28.2</td>\n",
       "      <td>0</td>\n",
       "      <td>24.3</td>\n",
       "      <td>----</td>\n",
       "      <td>----</td>\n",
       "      <td>----</td>\n",
       "      <td>0.7</td>\n",
       "      <td>0.9</td>\n",
       "      <td>0.7</td>\n",
       "      <td>Bolivia</td>\n",
       "    </tr>\n",
       "    <tr>\n",
       "      <th>8756</th>\n",
       "      <td>15-11-2023 21:00</td>\n",
       "      <td>45.6</td>\n",
       "      <td>0</td>\n",
       "      <td>21.2</td>\n",
       "      <td>----</td>\n",
       "      <td>----</td>\n",
       "      <td>----</td>\n",
       "      <td>1.1</td>\n",
       "      <td>1</td>\n",
       "      <td>0.2</td>\n",
       "      <td>Bolivia</td>\n",
       "    </tr>\n",
       "    <tr>\n",
       "      <th>8757</th>\n",
       "      <td>15-11-2023 22:00</td>\n",
       "      <td>48.6</td>\n",
       "      <td>0</td>\n",
       "      <td>23.9</td>\n",
       "      <td>----</td>\n",
       "      <td>----</td>\n",
       "      <td>----</td>\n",
       "      <td>1.4</td>\n",
       "      <td>0.7</td>\n",
       "      <td>1.7</td>\n",
       "      <td>Bolivia</td>\n",
       "    </tr>\n",
       "    <tr>\n",
       "      <th>8758</th>\n",
       "      <td>15-11-2023 23:00</td>\n",
       "      <td>51.1</td>\n",
       "      <td>0</td>\n",
       "      <td>29</td>\n",
       "      <td>----</td>\n",
       "      <td>----</td>\n",
       "      <td>----</td>\n",
       "      <td>4.1</td>\n",
       "      <td>0.4</td>\n",
       "      <td>1.4</td>\n",
       "      <td>Bolivia</td>\n",
       "    </tr>\n",
       "    <tr>\n",
       "      <th>8759</th>\n",
       "      <td>15-11-2023 24:00</td>\n",
       "      <td>45.9</td>\n",
       "      <td>0</td>\n",
       "      <td>22.9</td>\n",
       "      <td>----</td>\n",
       "      <td>----</td>\n",
       "      <td>----</td>\n",
       "      <td>5</td>\n",
       "      <td>0.4</td>\n",
       "      <td>1.9</td>\n",
       "      <td>Bolivia</td>\n",
       "    </tr>\n",
       "  </tbody>\n",
       "</table>\n",
       "<p>8760 rows × 11 columns</p>\n",
       "</div>"
      ],
      "text/plain": [
       "              DateTime  PM10 Precipitacion PM2.5    NO   NO2   NOX  SO2   CO  \\\n",
       "0     16-11-2022 01:00  39.2             0  13.6  ----  ----  ----  0.4  0.3   \n",
       "1     16-11-2022 02:00  35.4             0  10.4  ----  ----  ----  0.4  0.3   \n",
       "2     16-11-2022 03:00  36.5             0     9  ----  ----  ----  0.3  0.3   \n",
       "3     16-11-2022 04:00  39.7             0   8.7  ----  ----  ----  0.1  0.3   \n",
       "4     16-11-2022 05:00  36.4             0   7.6  ----  ----  ----  0.4  0.7   \n",
       "...                ...   ...           ...   ...   ...   ...   ...  ...  ...   \n",
       "8755  15-11-2023 20:00  28.2             0  24.3  ----  ----  ----  0.7  0.9   \n",
       "8756  15-11-2023 21:00  45.6             0  21.2  ----  ----  ----  1.1    1   \n",
       "8757  15-11-2023 22:00  48.6             0  23.9  ----  ----  ----  1.4  0.7   \n",
       "8758  15-11-2023 23:00  51.1             0    29  ----  ----  ----  4.1  0.4   \n",
       "8759  15-11-2023 24:00  45.9             0  22.9  ----  ----  ----    5  0.4   \n",
       "\n",
       "     OZONO station_name  \n",
       "0      0.4      Bolivia  \n",
       "1      0.9      Bolivia  \n",
       "2        1      Bolivia  \n",
       "3      1.2      Bolivia  \n",
       "4      0.1      Bolivia  \n",
       "...    ...          ...  \n",
       "8755   0.7      Bolivia  \n",
       "8756   0.2      Bolivia  \n",
       "8757   1.7      Bolivia  \n",
       "8758   1.4      Bolivia  \n",
       "8759   1.9      Bolivia  \n",
       "\n",
       "[8760 rows x 11 columns]"
      ]
     },
     "execution_count": 112,
     "metadata": {},
     "output_type": "execute_result"
    }
   ],
   "source": [
    "Bolivia_df = station_dfs.get('Bolivia')\n",
    "Bolivia_df"
   ]
  },
  {
   "cell_type": "code",
   "execution_count": 120,
   "metadata": {
    "tags": []
   },
   "outputs": [
    {
     "data": {
      "text/html": [
       "<div>\n",
       "<style scoped>\n",
       "    .dataframe tbody tr th:only-of-type {\n",
       "        vertical-align: middle;\n",
       "    }\n",
       "\n",
       "    .dataframe tbody tr th {\n",
       "        vertical-align: top;\n",
       "    }\n",
       "\n",
       "    .dataframe thead th {\n",
       "        text-align: right;\n",
       "    }\n",
       "</style>\n",
       "<table border=\"1\" class=\"dataframe\">\n",
       "  <thead>\n",
       "    <tr style=\"text-align: right;\">\n",
       "      <th></th>\n",
       "      <th>DateTime</th>\n",
       "      <th>PM10</th>\n",
       "      <th>Precipitacion</th>\n",
       "      <th>PM2.5</th>\n",
       "      <th>NO</th>\n",
       "      <th>NO2</th>\n",
       "      <th>NOX</th>\n",
       "      <th>SO2</th>\n",
       "      <th>CO</th>\n",
       "      <th>OZONO</th>\n",
       "      <th>station_name</th>\n",
       "      <th>date</th>\n",
       "      <th>time</th>\n",
       "    </tr>\n",
       "  </thead>\n",
       "  <tbody>\n",
       "    <tr>\n",
       "      <th>0</th>\n",
       "      <td>16-11-2022 01:00</td>\n",
       "      <td>39.2</td>\n",
       "      <td>0</td>\n",
       "      <td>13.6</td>\n",
       "      <td>----</td>\n",
       "      <td>----</td>\n",
       "      <td>----</td>\n",
       "      <td>0.4</td>\n",
       "      <td>0.3</td>\n",
       "      <td>0.4</td>\n",
       "      <td>Bolivia</td>\n",
       "      <td>2022-11-16</td>\n",
       "      <td>01:00</td>\n",
       "    </tr>\n",
       "    <tr>\n",
       "      <th>1</th>\n",
       "      <td>16-11-2022 02:00</td>\n",
       "      <td>35.4</td>\n",
       "      <td>0</td>\n",
       "      <td>10.4</td>\n",
       "      <td>----</td>\n",
       "      <td>----</td>\n",
       "      <td>----</td>\n",
       "      <td>0.4</td>\n",
       "      <td>0.3</td>\n",
       "      <td>0.9</td>\n",
       "      <td>Bolivia</td>\n",
       "      <td>2022-11-16</td>\n",
       "      <td>02:00</td>\n",
       "    </tr>\n",
       "    <tr>\n",
       "      <th>2</th>\n",
       "      <td>16-11-2022 03:00</td>\n",
       "      <td>36.5</td>\n",
       "      <td>0</td>\n",
       "      <td>9</td>\n",
       "      <td>----</td>\n",
       "      <td>----</td>\n",
       "      <td>----</td>\n",
       "      <td>0.3</td>\n",
       "      <td>0.3</td>\n",
       "      <td>1</td>\n",
       "      <td>Bolivia</td>\n",
       "      <td>2022-11-16</td>\n",
       "      <td>03:00</td>\n",
       "    </tr>\n",
       "    <tr>\n",
       "      <th>3</th>\n",
       "      <td>16-11-2022 04:00</td>\n",
       "      <td>39.7</td>\n",
       "      <td>0</td>\n",
       "      <td>8.7</td>\n",
       "      <td>----</td>\n",
       "      <td>----</td>\n",
       "      <td>----</td>\n",
       "      <td>0.1</td>\n",
       "      <td>0.3</td>\n",
       "      <td>1.2</td>\n",
       "      <td>Bolivia</td>\n",
       "      <td>2022-11-16</td>\n",
       "      <td>04:00</td>\n",
       "    </tr>\n",
       "    <tr>\n",
       "      <th>4</th>\n",
       "      <td>16-11-2022 05:00</td>\n",
       "      <td>36.4</td>\n",
       "      <td>0</td>\n",
       "      <td>7.6</td>\n",
       "      <td>----</td>\n",
       "      <td>----</td>\n",
       "      <td>----</td>\n",
       "      <td>0.4</td>\n",
       "      <td>0.7</td>\n",
       "      <td>0.1</td>\n",
       "      <td>Bolivia</td>\n",
       "      <td>2022-11-16</td>\n",
       "      <td>05:00</td>\n",
       "    </tr>\n",
       "    <tr>\n",
       "      <th>...</th>\n",
       "      <td>...</td>\n",
       "      <td>...</td>\n",
       "      <td>...</td>\n",
       "      <td>...</td>\n",
       "      <td>...</td>\n",
       "      <td>...</td>\n",
       "      <td>...</td>\n",
       "      <td>...</td>\n",
       "      <td>...</td>\n",
       "      <td>...</td>\n",
       "      <td>...</td>\n",
       "      <td>...</td>\n",
       "      <td>...</td>\n",
       "    </tr>\n",
       "    <tr>\n",
       "      <th>8755</th>\n",
       "      <td>15-11-2023 20:00</td>\n",
       "      <td>28.2</td>\n",
       "      <td>0</td>\n",
       "      <td>24.3</td>\n",
       "      <td>----</td>\n",
       "      <td>----</td>\n",
       "      <td>----</td>\n",
       "      <td>0.7</td>\n",
       "      <td>0.9</td>\n",
       "      <td>0.7</td>\n",
       "      <td>Bolivia</td>\n",
       "      <td>2023-11-15</td>\n",
       "      <td>20:00</td>\n",
       "    </tr>\n",
       "    <tr>\n",
       "      <th>8756</th>\n",
       "      <td>15-11-2023 21:00</td>\n",
       "      <td>45.6</td>\n",
       "      <td>0</td>\n",
       "      <td>21.2</td>\n",
       "      <td>----</td>\n",
       "      <td>----</td>\n",
       "      <td>----</td>\n",
       "      <td>1.1</td>\n",
       "      <td>1</td>\n",
       "      <td>0.2</td>\n",
       "      <td>Bolivia</td>\n",
       "      <td>2023-11-15</td>\n",
       "      <td>21:00</td>\n",
       "    </tr>\n",
       "    <tr>\n",
       "      <th>8757</th>\n",
       "      <td>15-11-2023 22:00</td>\n",
       "      <td>48.6</td>\n",
       "      <td>0</td>\n",
       "      <td>23.9</td>\n",
       "      <td>----</td>\n",
       "      <td>----</td>\n",
       "      <td>----</td>\n",
       "      <td>1.4</td>\n",
       "      <td>0.7</td>\n",
       "      <td>1.7</td>\n",
       "      <td>Bolivia</td>\n",
       "      <td>2023-11-15</td>\n",
       "      <td>22:00</td>\n",
       "    </tr>\n",
       "    <tr>\n",
       "      <th>8758</th>\n",
       "      <td>15-11-2023 23:00</td>\n",
       "      <td>51.1</td>\n",
       "      <td>0</td>\n",
       "      <td>29</td>\n",
       "      <td>----</td>\n",
       "      <td>----</td>\n",
       "      <td>----</td>\n",
       "      <td>4.1</td>\n",
       "      <td>0.4</td>\n",
       "      <td>1.4</td>\n",
       "      <td>Bolivia</td>\n",
       "      <td>2023-11-15</td>\n",
       "      <td>23:00</td>\n",
       "    </tr>\n",
       "    <tr>\n",
       "      <th>8759</th>\n",
       "      <td>15-11-2023 24:00</td>\n",
       "      <td>45.9</td>\n",
       "      <td>0</td>\n",
       "      <td>22.9</td>\n",
       "      <td>----</td>\n",
       "      <td>----</td>\n",
       "      <td>----</td>\n",
       "      <td>5</td>\n",
       "      <td>0.4</td>\n",
       "      <td>1.9</td>\n",
       "      <td>Bolivia</td>\n",
       "      <td>2023-11-15</td>\n",
       "      <td>24:00</td>\n",
       "    </tr>\n",
       "  </tbody>\n",
       "</table>\n",
       "<p>8760 rows × 13 columns</p>\n",
       "</div>"
      ],
      "text/plain": [
       "              DateTime  PM10 Precipitacion PM2.5    NO   NO2   NOX  SO2   CO  \\\n",
       "0     16-11-2022 01:00  39.2             0  13.6  ----  ----  ----  0.4  0.3   \n",
       "1     16-11-2022 02:00  35.4             0  10.4  ----  ----  ----  0.4  0.3   \n",
       "2     16-11-2022 03:00  36.5             0     9  ----  ----  ----  0.3  0.3   \n",
       "3     16-11-2022 04:00  39.7             0   8.7  ----  ----  ----  0.1  0.3   \n",
       "4     16-11-2022 05:00  36.4             0   7.6  ----  ----  ----  0.4  0.7   \n",
       "...                ...   ...           ...   ...   ...   ...   ...  ...  ...   \n",
       "8755  15-11-2023 20:00  28.2             0  24.3  ----  ----  ----  0.7  0.9   \n",
       "8756  15-11-2023 21:00  45.6             0  21.2  ----  ----  ----  1.1    1   \n",
       "8757  15-11-2023 22:00  48.6             0  23.9  ----  ----  ----  1.4  0.7   \n",
       "8758  15-11-2023 23:00  51.1             0    29  ----  ----  ----  4.1  0.4   \n",
       "8759  15-11-2023 24:00  45.9             0  22.9  ----  ----  ----    5  0.4   \n",
       "\n",
       "     OZONO station_name       date   time  \n",
       "0      0.4      Bolivia 2022-11-16  01:00  \n",
       "1      0.9      Bolivia 2022-11-16  02:00  \n",
       "2        1      Bolivia 2022-11-16  03:00  \n",
       "3      1.2      Bolivia 2022-11-16  04:00  \n",
       "4      0.1      Bolivia 2022-11-16  05:00  \n",
       "...    ...          ...        ...    ...  \n",
       "8755   0.7      Bolivia 2023-11-15  20:00  \n",
       "8756   0.2      Bolivia 2023-11-15  21:00  \n",
       "8757   1.7      Bolivia 2023-11-15  22:00  \n",
       "8758   1.4      Bolivia 2023-11-15  23:00  \n",
       "8759   1.9      Bolivia 2023-11-15  24:00  \n",
       "\n",
       "[8760 rows x 13 columns]"
      ]
     },
     "execution_count": 120,
     "metadata": {},
     "output_type": "execute_result"
    }
   ],
   "source": [
    "# Split the datetime column into separate date and time columns\n",
    "Bolivia_df[['date', 'time']] = Bolivia_df['DateTime'].str.split(' ', expand=True)\n",
    "\n",
    "# Convert the date column to datetime format\n",
    "Bolivia_df['date'] = pd.to_datetime(Bolivia_df['date'], format='%d-%m-%Y')\n",
    "\n",
    "# Display the resulting DataFrame\n",
    "Bolivia_df['DateTime']"
   ]
  },
  {
   "cell_type": "code",
   "execution_count": 106,
   "metadata": {
    "tags": []
   },
   "outputs": [],
   "source": [
    "# for filename in os.listdir(data_path):\n",
    "\n",
    "#     station_path = os.path.join(data_path, filename) # Create the path for the excel file\n",
    "    \n",
    "#     filename = pd.read_excel(station_path) # Read it into pandas df\n",
    "#     station_name = \n",
    "#     # Extract the station name\n",
    "#     print(filename)\n",
    "    \n"
   ]
  },
  {
   "cell_type": "markdown",
   "metadata": {
    "jp-MarkdownHeadingCollapsed": true,
    "tags": []
   },
   "source": [
    "# Gabby"
   ]
  },
  {
   "cell_type": "code",
   "execution_count": null,
   "metadata": {},
   "outputs": [],
   "source": []
  },
  {
   "cell_type": "code",
   "execution_count": null,
   "metadata": {},
   "outputs": [],
   "source": []
  },
  {
   "cell_type": "code",
   "execution_count": null,
   "metadata": {},
   "outputs": [],
   "source": []
  }
 ],
 "metadata": {
  "kernelspec": {
   "display_name": "Python 3 (ipykernel)",
   "language": "python",
   "name": "python3"
  },
  "language_info": {
   "codemirror_mode": {
    "name": "ipython",
    "version": 3
   },
   "file_extension": ".py",
   "mimetype": "text/x-python",
   "name": "python",
   "nbconvert_exporter": "python",
   "pygments_lexer": "ipython3",
   "version": "3.11.5"
  }
 },
 "nbformat": 4,
 "nbformat_minor": 4
}
